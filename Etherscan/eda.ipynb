{
 "cells": [
  {
   "cell_type": "code",
   "execution_count": 23,
   "metadata": {},
   "outputs": [],
   "source": [
    "import pandas as pd\n",
    "import matplotlib.pyplot as plt\n",
    "import seaborn as sns"
   ]
  },
  {
   "cell_type": "code",
   "execution_count": 4,
   "metadata": {},
   "outputs": [],
   "source": [
    "dai = pd.read_feather('data/dai.feather')\n",
    "mkr = pd.read_feather('data/maker.feather')"
   ]
  },
  {
   "cell_type": "code",
   "execution_count": 5,
   "metadata": {},
   "outputs": [
    {
     "name": "stdout",
     "output_type": "stream",
     "text": [
      "(1196302, 6)\n",
      "                                           to  \\\n",
      "0                                               \n",
      "1  0x6b175474e89094c44da98b954eedeac495271d0f   \n",
      "2  0x6b175474e89094c44da98b954eedeac495271d0f   \n",
      "3  0x6b175474e89094c44da98b954eedeac495271d0f   \n",
      "4  0x6b175474e89094c44da98b954eedeac495271d0f   \n",
      "\n",
      "                                         from  value           gas  \\\n",
      "0  0xb5b06a16621616875a6c2637948bf98ea57c58fa    0.0  1.623228e-12   \n",
      "1  0x00ecd4635c80d47a8b5ffbfd2eb794e0ce6a8689    0.0  4.727000e-04   \n",
      "2  0xd9d1e81bb35db066986fa441113a27708663d70b    0.0  5.672400e-04   \n",
      "3  0xf14c1373d44cc23ada88acd605bba85ddc03d65b    0.0  9.352535e-05   \n",
      "4  0xf1ff09e1fb55702b182058a8514a0917abdd582f    0.0  5.672400e-04   \n",
      "\n",
      "                 time  nonce  \n",
      "0 2019-11-13 20:17:57   None  \n",
      "1 2019-11-17 13:21:39  24346  \n",
      "2 2019-11-17 18:20:44      0  \n",
      "3 2019-11-17 19:16:27    105  \n",
      "4 2019-11-17 20:00:31      0  \n"
     ]
    }
   ],
   "source": [
    "print(dai.shape)\n",
    "print(dai.head())"
   ]
  },
  {
   "cell_type": "code",
   "execution_count": 6,
   "metadata": {},
   "outputs": [
    {
     "name": "stdout",
     "output_type": "stream",
     "text": [
      "(598146, 6)\n",
      "                                           to  \\\n",
      "0                                               \n",
      "1  0x9f8f72aa9304c8b593d555f12ef6589cc3a579a2   \n",
      "2  0x9f8f72aa9304c8b593d555f12ef6589cc3a579a2   \n",
      "3  0x9f8f72aa9304c8b593d555f12ef6589cc3a579a2   \n",
      "4  0x9f8f72aa9304c8b593d555f12ef6589cc3a579a2   \n",
      "\n",
      "                                         from  value           gas  \\\n",
      "0  0x731c6f8c754fa404cfcc2ed8035ef79262f65702    0.0  7.531820e-13   \n",
      "1  0x00daa9a2d88bed5a29a6ca93e0b7d860cd1d403f    0.0  4.592100e-05   \n",
      "2  0x00daa9a2d88bed5a29a6ca93e0b7d860cd1d403f    0.0  3.736200e-05   \n",
      "3  0x00daa9a2d88bed5a29a6ca93e0b7d860cd1d403f    0.0  4.592100e-05   \n",
      "4  0x00daa9a2d88bed5a29a6ca93e0b7d860cd1d403f    0.0  4.592100e-05   \n",
      "\n",
      "                 time nonce  \n",
      "0 2017-11-25 19:24:17  None  \n",
      "1 2017-11-25 20:11:58  5420  \n",
      "2 2017-11-25 20:26:46  5429  \n",
      "3 2017-11-25 20:34:23  5433  \n",
      "4 2017-11-27 04:05:47  5437  \n"
     ]
    }
   ],
   "source": [
    "print(mkr.shape)\n",
    "print(mkr.head())"
   ]
  },
  {
   "cell_type": "code",
   "execution_count": 7,
   "metadata": {},
   "outputs": [],
   "source": [
    "dai.time = pd.to_datetime(dai.time, format=\"%Y-%m-%d %H:%M:%S\")"
   ]
  },
  {
   "cell_type": "code",
   "execution_count": 8,
   "metadata": {},
   "outputs": [],
   "source": [
    "mkr.time = pd.to_datetime(mkr.time, format=\"%Y-%m-%d %H:%M:%S\")"
   ]
  },
  {
   "cell_type": "code",
   "execution_count": 11,
   "metadata": {},
   "outputs": [],
   "source": [
    "dai_time = dai.copy()\n",
    "dai_time.set_index(dai_time.time, inplace=True)\n",
    "x = dai_time.index\n",
    "y = dai_time.resample('D').count()['to']"
   ]
  },
  {
   "cell_type": "code",
   "execution_count": 14,
   "metadata": {},
   "outputs": [
    {
     "data": {
      "image/png": "[encoded data removed]",
      "text/plain": [
       "<Figure size 432x288 with 1 Axes>"
      ]
     },
     "metadata": {
      "needs_background": "light"
     },
     "output_type": "display_data"
    }
   ],
   "source": [
    "plt.plot(y)\n",
    "plt.show()"
   ]
  },
  {
   "cell_type": "code",
   "execution_count": 15,
   "metadata": {},
   "outputs": [],
   "source": [
    "mkr_time = mkr.copy()\n",
    "mkr_time.set_index(mkr_time.time, inplace=True)\n",
    "x = mkr_time.index\n",
    "y = mkr_time.resample('D').count()['to']"
   ]
  },
  {
   "cell_type": "code",
   "execution_count": 16,
   "metadata": {},
   "outputs": [
    {
     "data": {
      "image/png": "[encoded data removed]",
      "text/plain": [
       "<Figure size 432x288 with 1 Axes>"
      ]
     },
     "metadata": {
      "needs_background": "light"
     },
     "output_type": "display_data"
    }
   ],
   "source": [
    "plt.plot(y)\n",
    "plt.show()"
   ]
  },
  {
   "cell_type": "code",
   "execution_count": 19,
   "metadata": {},
   "outputs": [
    {
     "data": {
      "text/html": [
       "<div>\n",
       "<style scoped>\n",
       "    .dataframe tbody tr th:only-of-type {\n",
       "        vertical-align: middle;\n",
       "    }\n",
       "\n",
       "    .dataframe tbody tr th {\n",
       "        vertical-align: top;\n",
       "    }\n",
       "\n",
       "    .dataframe thead th {\n",
       "        text-align: right;\n",
       "    }\n",
       "</style>\n",
       "<table border=\"1\" class=\"dataframe\">\n",
       "  <thead>\n",
       "    <tr style=\"text-align: right;\">\n",
       "      <th></th>\n",
       "      <th>to</th>\n",
       "      <th>from</th>\n",
       "      <th>value</th>\n",
       "      <th>gas</th>\n",
       "      <th>time</th>\n",
       "      <th>nonce</th>\n",
       "    </tr>\n",
       "  </thead>\n",
       "  <tbody>\n",
       "    <tr>\n",
       "      <th>1196297</th>\n",
       "      <td>0x6b175474e89094c44da98b954eedeac495271d0f</td>\n",
       "      <td>0x99724a6eaf560267c369cd632dc9b6f04636a799</td>\n",
       "      <td>0.0</td>\n",
       "      <td>0.003221</td>\n",
       "      <td>2022-04-11 17:01:42</td>\n",
       "      <td>7</td>\n",
       "    </tr>\n",
       "    <tr>\n",
       "      <th>1196298</th>\n",
       "      <td>0x6b175474e89094c44da98b954eedeac495271d0f</td>\n",
       "      <td>0xd4bddf5e3d0435d7a6214a0b949c7bb58621f37c</td>\n",
       "      <td>0.0</td>\n",
       "      <td>0.002631</td>\n",
       "      <td>2022-04-11 17:02:09</td>\n",
       "      <td>108950</td>\n",
       "    </tr>\n",
       "    <tr>\n",
       "      <th>1196299</th>\n",
       "      <td>0x6b175474e89094c44da98b954eedeac495271d0f</td>\n",
       "      <td>0x28c6c06298d514db089934071355e5743bf21d60</td>\n",
       "      <td>0.0</td>\n",
       "      <td>0.002625</td>\n",
       "      <td>2022-04-11 17:02:31</td>\n",
       "      <td>3720958</td>\n",
       "    </tr>\n",
       "    <tr>\n",
       "      <th>1196300</th>\n",
       "      <td>0x6b175474e89094c44da98b954eedeac495271d0f</td>\n",
       "      <td>0x46340b20830761efd32832a74d7169b29feb9758</td>\n",
       "      <td>0.0</td>\n",
       "      <td>0.004639</td>\n",
       "      <td>2022-04-11 17:03:22</td>\n",
       "      <td>5824674</td>\n",
       "    </tr>\n",
       "    <tr>\n",
       "      <th>1196301</th>\n",
       "      <td>0x6b175474e89094c44da98b954eedeac495271d0f</td>\n",
       "      <td>0x6a8a53b3845748b46f9c02b43edcf5a88952ee45</td>\n",
       "      <td>0.0</td>\n",
       "      <td>0.006220</td>\n",
       "      <td>2022-04-11 17:03:53</td>\n",
       "      <td>13</td>\n",
       "    </tr>\n",
       "  </tbody>\n",
       "</table>\n",
       "</div>"
      ],
      "text/plain": [
       "                                                 to  \\\n",
       "1196297  0x6b175474e89094c44da98b954eedeac495271d0f   \n",
       "1196298  0x6b175474e89094c44da98b954eedeac495271d0f   \n",
       "1196299  0x6b175474e89094c44da98b954eedeac495271d0f   \n",
       "1196300  0x6b175474e89094c44da98b954eedeac495271d0f   \n",
       "1196301  0x6b175474e89094c44da98b954eedeac495271d0f   \n",
       "\n",
       "                                               from  value       gas  \\\n",
       "1196297  0x99724a6eaf560267c369cd632dc9b6f04636a799    0.0  0.003221   \n",
       "1196298  0xd4bddf5e3d0435d7a6214a0b949c7bb58621f37c    0.0  0.002631   \n",
       "1196299  0x28c6c06298d514db089934071355e5743bf21d60    0.0  0.002625   \n",
       "1196300  0x46340b20830761efd32832a74d7169b29feb9758    0.0  0.004639   \n",
       "1196301  0x6a8a53b3845748b46f9c02b43edcf5a88952ee45    0.0  0.006220   \n",
       "\n",
       "                       time    nonce  \n",
       "1196297 2022-04-11 17:01:42        7  \n",
       "1196298 2022-04-11 17:02:09   108950  \n",
       "1196299 2022-04-11 17:02:31  3720958  \n",
       "1196300 2022-04-11 17:03:22  5824674  \n",
       "1196301 2022-04-11 17:03:53       13  "
      ]
     },
     "execution_count": 19,
     "metadata": {},
     "output_type": "execute_result"
    }
   ],
   "source": [
    "dai.tail()"
   ]
  },
  {
   "cell_type": "code",
   "execution_count": 21,
   "metadata": {},
   "outputs": [],
   "source": [
    "day_mean = dai_time.resample('D').mean()"
   ]
  },
  {
   "cell_type": "code",
   "execution_count": 26,
   "metadata": {},
   "outputs": [
    {
     "data": {
      "text/plain": [
       "320"
      ]
     },
     "execution_count": 26,
     "metadata": {},
     "output_type": "execute_result"
    }
   ],
   "source": [
    "day_mean.value.count()"
   ]
  },
  {
   "cell_type": "code",
   "execution_count": 27,
   "metadata": {},
   "outputs": [],
   "source": [
    "day_mean.to_csv('dai_mean.csv')"
   ]
  },
  {
   "cell_type": "code",
   "execution_count": 25,
   "metadata": {},
   "outputs": [
    {
     "data": {
      "text/plain": [
       "<AxesSubplot:xlabel='value', ylabel='Count'>"
      ]
     },
     "execution_count": 25,
     "metadata": {},
     "output_type": "execute_result"
    },
    {
     "data": {
      "image/png": "[encoded data removed]",
      "text/plain": [
       "<Figure size 432x288 with 1 Axes>"
      ]
     },
     "metadata": {
      "needs_background": "light"
     },
     "output_type": "display_data"
    }
   ],
   "source": [
    "sns.histplot(day_mean.value)"
   ]
  },
  {
   "cell_type": "code",
   "execution_count": 28,
   "metadata": {},
   "outputs": [],
   "source": [
    "mkr.to_csv('mkr.csv')"
   ]
  },
  {
   "cell_type": "code",
   "execution_count": null,
   "metadata": {},
   "outputs": [],
   "source": []
  }
 ],
 "metadata": {
  "interpreter": {
   "hash": "369f1e7555168929eac3e6d723f3c7e66e7236013f83b62633414554d6c55bba"
  },
  "kernelspec": {
   "display_name": "Python 3.9.7 ('eleven')",
   "language": "python",
   "name": "python3"
  },
  "language_info": {
   "codemirror_mode": {
    "name": "ipython",
    "version": 3
   },
   "file_extension": ".py",
   "mimetype": "text/x-python",
   "name": "python",
   "nbconvert_exporter": "python",
   "pygments_lexer": "ipython3",
   "version": "3.9.7"
  },
  "orig_nbformat": 4
 },
 "nbformat": 4,
 "nbformat_minor": 2
}
