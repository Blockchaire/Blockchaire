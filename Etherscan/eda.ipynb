{
 "cells": [
  {
   "cell_type": "code",
   "execution_count": 1,
   "metadata": {},
   "outputs": [],
   "source": [
    "import numpy as np\n",
    "import pandas as pd\n",
    "import matplotlib.pyplot as plt"
   ]
  },
  {
   "cell_type": "code",
   "execution_count": 4,
   "metadata": {},
   "outputs": [],
   "source": [
    "dai = pd.read_feather('data/dai.feather')\n",
    "mkr = pd.read_feather('data/maker.feather')"
   ]
  },
  {
   "cell_type": "code",
   "execution_count": 5,
   "metadata": {},
   "outputs": [
    {
     "name": "stdout",
     "output_type": "stream",
     "text": [
      "(1196302, 6)\n",
      "                                           to  \\\n",
      "0                                               \n",
      "1  0x6b175474e89094c44da98b954eedeac495271d0f   \n",
      "2  0x6b175474e89094c44da98b954eedeac495271d0f   \n",
      "3  0x6b175474e89094c44da98b954eedeac495271d0f   \n",
      "4  0x6b175474e89094c44da98b954eedeac495271d0f   \n",
      "\n",
      "                                         from  value           gas  \\\n",
      "0  0xb5b06a16621616875a6c2637948bf98ea57c58fa    0.0  1.623228e-12   \n",
      "1  0x00ecd4635c80d47a8b5ffbfd2eb794e0ce6a8689    0.0  4.727000e-04   \n",
      "2  0xd9d1e81bb35db066986fa441113a27708663d70b    0.0  5.672400e-04   \n",
      "3  0xf14c1373d44cc23ada88acd605bba85ddc03d65b    0.0  9.352535e-05   \n",
      "4  0xf1ff09e1fb55702b182058a8514a0917abdd582f    0.0  5.672400e-04   \n",
      "\n",
      "                 time  nonce  \n",
      "0 2019-11-13 20:17:57   None  \n",
      "1 2019-11-17 13:21:39  24346  \n",
      "2 2019-11-17 18:20:44      0  \n",
      "3 2019-11-17 19:16:27    105  \n",
      "4 2019-11-17 20:00:31      0  \n"
     ]
    }
   ],
   "source": [
    "print(dai.shape)\n",
    "print(dai.head())"
   ]
  },
  {
   "cell_type": "code",
   "execution_count": 6,
   "metadata": {},
   "outputs": [
    {
     "name": "stdout",
     "output_type": "stream",
     "text": [
      "(598146, 6)\n",
      "                                           to  \\\n",
      "0                                               \n",
      "1  0x9f8f72aa9304c8b593d555f12ef6589cc3a579a2   \n",
      "2  0x9f8f72aa9304c8b593d555f12ef6589cc3a579a2   \n",
      "3  0x9f8f72aa9304c8b593d555f12ef6589cc3a579a2   \n",
      "4  0x9f8f72aa9304c8b593d555f12ef6589cc3a579a2   \n",
      "\n",
      "                                         from  value           gas  \\\n",
      "0  0x731c6f8c754fa404cfcc2ed8035ef79262f65702    0.0  7.531820e-13   \n",
      "1  0x00daa9a2d88bed5a29a6ca93e0b7d860cd1d403f    0.0  4.592100e-05   \n",
      "2  0x00daa9a2d88bed5a29a6ca93e0b7d860cd1d403f    0.0  3.736200e-05   \n",
      "3  0x00daa9a2d88bed5a29a6ca93e0b7d860cd1d403f    0.0  4.592100e-05   \n",
      "4  0x00daa9a2d88bed5a29a6ca93e0b7d860cd1d403f    0.0  4.592100e-05   \n",
      "\n",
      "                 time nonce  \n",
      "0 2017-11-25 19:24:17  None  \n",
      "1 2017-11-25 20:11:58  5420  \n",
      "2 2017-11-25 20:26:46  5429  \n",
      "3 2017-11-25 20:34:23  5433  \n",
      "4 2017-11-27 04:05:47  5437  \n"
     ]
    }
   ],
   "source": [
    "print(mkr.shape)\n",
    "print(mkr.head())"
   ]
  },
  {
   "cell_type": "code",
   "execution_count": 7,
   "metadata": {},
   "outputs": [],
   "source": [
    "dai.time = pd.to_datetime(dai.time, format=\"%Y-%m-%d %H:%M:%S\")"
   ]
  },
  {
   "cell_type": "code",
   "execution_count": 8,
   "metadata": {},
   "outputs": [],
   "source": [
    "mkr.time = pd.to_datetime(mkr.time, format=\"%Y-%m-%d %H:%M:%S\")"
   ]
  },
  {
   "cell_type": "code",
   "execution_count": 11,
   "metadata": {},
   "outputs": [],
   "source": [
    "dai_time = dai.copy()\n",
    "dai_time.set_index(dai_time.time, inplace=True)\n",
    "x = dai_time.index\n",
    "y = dai_time.resample('D').count()['to']"
   ]
  },
  {
   "cell_type": "code",
   "execution_count": 14,
   "metadata": {},
   "outputs": [
    {
     "data": {
      "image/png": "[encoded data removed]",
      "text/plain": [
       "<Figure size 432x288 with 1 Axes>"
      ]
     },
     "metadata": {
      "needs_background": "light"
     },
     "output_type": "display_data"
    }
   ],
   "source": [
    "plt.plot(y)\n",
    "plt.show()"
   ]
  },
  {
   "cell_type": "code",
   "execution_count": null,
   "metadata": {},
   "outputs": [],
   "source": [
    "mkr_time = mkr.copy()\n",
    "mkr_time.set_index(mkr_time.time, inplace=True)\n",
    "x = mkr_time.index\n",
    "y = mkr_time.resample('D').count()['to']"
   ]
  }
 ],
 "metadata": {
  "interpreter": {
   "hash": "369f1e7555168929eac3e6d723f3c7e66e7236013f83b62633414554d6c55bba"
  },
  "kernelspec": {
   "display_name": "Python 3.9.7 ('eleven')",
   "language": "python",
   "name": "python3"
  },
  "language_info": {
   "codemirror_mode": {
    "name": "ipython",
    "version": 3
   },
   "file_extension": ".py",
   "mimetype": "text/x-python",
   "name": "python",
   "nbconvert_exporter": "python",
   "pygments_lexer": "ipython3",
   "version": "3.9.7"
  },
  "orig_nbformat": 4
 },
 "nbformat": 4,
 "nbformat_minor": 2
}
